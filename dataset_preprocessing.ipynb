{
 "cells": [
  {
   "cell_type": "code",
   "execution_count": 267,
   "source": [
    "import pandas as pd\r\n",
    "import numpy as np\r\n",
    "import matplotlib.pyplot as plt\r\n",
    "import seaborn as sns"
   ],
   "outputs": [],
   "metadata": {}
  },
  {
   "cell_type": "code",
   "execution_count": 268,
   "source": [
    "ori_t=pd.read_excel('sentiment_data_ori_t.xlsx')\r\n",
    "ori_v=pd.read_excel('sentiment_data_ori_v.xlsx')\r\n",
    "fin_t=pd.read_excel('sentiment_data_fin_t.xlsx')\r\n",
    "fin_v=pd.read_excel('sentiment_data_fin_v.xlsx')"
   ],
   "outputs": [],
   "metadata": {}
  },
  {
   "cell_type": "code",
   "execution_count": 269,
   "source": [
    "ori_t=ori_t.fillna(\"\")\r\n",
    "ori_v=ori_v.fillna(\"\")\r\n",
    "fin_t=fin_t.fillna(\"\")\r\n",
    "fin_v=fin_v.fillna(\"\")"
   ],
   "outputs": [],
   "metadata": {}
  },
  {
   "cell_type": "code",
   "execution_count": 270,
   "source": [
    "# 컬럼간 str 합치기\r\n",
    "\r\n",
    "ori_t[\"사람문장\"]=ori_t[\"사람문장1\"].astype(str)+ori_t[\"사람문장2\"].astype(str)+ori_t[\"사람문장3\"].astype(str)\r\n",
    "ori_v[\"사람문장\"]=ori_v[\"사람문장1\"].astype(str)+ori_v[\"사람문장2\"].astype(str)+ori_v[\"사람문장3\"].astype(str)\r\n",
    "fin_t[\"사람문장\"]=fin_t[\"사람문장1\"].astype(str)+fin_t[\"사람문장2\"].astype(str)+fin_t[\"사람문장3\"].astype(str)+fin_t[\"사람문장4\"].astype(str)\r\n",
    "fin_v[\"사람문장\"]=fin_v[\"사람문장1\"].astype(str)+fin_v[\"사람문장2\"].astype(str)+fin_v[\"사람문장3\"].astype(str)+fin_v[\"사람문장4\"].astype(str)"
   ],
   "outputs": [],
   "metadata": {}
  },
  {
   "cell_type": "code",
   "execution_count": 271,
   "source": [
    "df_concat=pd.concat([ori_t,ori_v,fin_t,fin_v])"
   ],
   "outputs": [],
   "metadata": {}
  },
  {
   "cell_type": "code",
   "execution_count": 272,
   "source": [
    "final_df=df_concat[[\"사람문장\",\"감정_대분류\"]]"
   ],
   "outputs": [],
   "metadata": {}
  },
  {
   "cell_type": "code",
   "execution_count": 273,
   "source": [
    "final_df=final_df.rename({\"감정_대분류\":\"감정\"},axis=1)"
   ],
   "outputs": [],
   "metadata": {}
  },
  {
   "cell_type": "code",
   "execution_count": 274,
   "source": [
    "#컬럼 내 데이터들의 공백(string) 제거\r\n",
    "\r\n",
    "final_df[\"감정\"]=final_df[\"감정\"].apply(lambda x:x.strip())"
   ],
   "outputs": [],
   "metadata": {}
  },
  {
   "cell_type": "code",
   "execution_count": 275,
   "source": [
    "final_df[\"감정\"].value_counts()"
   ],
   "outputs": [
    {
     "output_type": "execute_result",
     "data": {
      "text/plain": [
       "상처    22567\n",
       "불안    22254\n",
       "슬픔    21998\n",
       "분노    21899\n",
       "기쁨    21597\n",
       "당황    19906\n",
       "Name: 감정, dtype: int64"
      ]
     },
     "metadata": {},
     "execution_count": 275
    }
   ],
   "metadata": {}
  },
  {
   "cell_type": "code",
   "execution_count": 276,
   "source": [
    "#np.where(조건,True일때 값,False일때 값) \r\n",
    "\r\n",
    "final_df[\"감정\"]=np.where(final_df[\"감정\"].str.match(\"상처\"),\"슬픔\",final_df[\"감정\"])\r\n",
    "final_df[\"감정\"]=np.where(final_df[\"감정\"].str.match(\"기쁨\"),\"행복\",final_df[\"감정\"])"
   ],
   "outputs": [],
   "metadata": {}
  },
  {
   "cell_type": "code",
   "execution_count": 277,
   "source": [
    "final_df[\"감정\"].value_counts()"
   ],
   "outputs": [
    {
     "output_type": "execute_result",
     "data": {
      "text/plain": [
       "슬픔    44565\n",
       "불안    22254\n",
       "분노    21899\n",
       "행복    21597\n",
       "당황    19906\n",
       "Name: 감정, dtype: int64"
      ]
     },
     "metadata": {},
     "execution_count": 277
    }
   ],
   "metadata": {}
  },
  {
   "cell_type": "code",
   "execution_count": 278,
   "source": [
    "final_df=final_df.reset_index(drop=True)"
   ],
   "outputs": [],
   "metadata": {}
  },
  {
   "cell_type": "code",
   "execution_count": 279,
   "source": [
    "sentiment_df=pd.read_csv(\"sentiment_sentence.csv\")"
   ],
   "outputs": [],
   "metadata": {}
  },
  {
   "cell_type": "code",
   "execution_count": 280,
   "source": [
    "sentiment_df=sentiment_df.drop(\"Unnamed: 0\",axis=1)"
   ],
   "outputs": [],
   "metadata": {}
  },
  {
   "cell_type": "code",
   "execution_count": 281,
   "source": [
    "sentiment_df[\"감정\"].value_counts()"
   ],
   "outputs": [
    {
     "output_type": "execute_result",
     "data": {
      "text/plain": [
       "중립    43786\n",
       "놀람     4866\n",
       "분노     3628\n",
       "슬픔     1972\n",
       "행복     1030\n",
       "혐오      220\n",
       "공포       98\n",
       "Name: 감정, dtype: int64"
      ]
     },
     "metadata": {},
     "execution_count": 281
    }
   ],
   "metadata": {}
  },
  {
   "cell_type": "code",
   "execution_count": 282,
   "source": [
    "sentiment_df[\"감정\"]=np.where(sentiment_df[\"감정\"].str.match(\"놀람\"),\"당황\",sentiment_df[\"감정\"])\r\n",
    "sentiment_df[\"감정\"]=np.where(sentiment_df[\"감정\"].str.match(\"공포\"),\"불안\",sentiment_df[\"감정\"])"
   ],
   "outputs": [],
   "metadata": {}
  },
  {
   "cell_type": "code",
   "execution_count": 283,
   "source": [
    "final_df.rename({\"사람문장\":\"발화\"},axis=1,inplace=True)"
   ],
   "outputs": [],
   "metadata": {}
  },
  {
   "cell_type": "code",
   "execution_count": 284,
   "source": [
    "real_final_df=pd.concat([final_df,sentiment_df])"
   ],
   "outputs": [],
   "metadata": {}
  },
  {
   "cell_type": "code",
   "execution_count": 287,
   "source": [
    "real_final_df.reset_index(drop=True,inplace=True)"
   ],
   "outputs": [],
   "metadata": {}
  },
  {
   "cell_type": "code",
   "execution_count": 288,
   "source": [
    "real_final_df"
   ],
   "outputs": [
    {
     "output_type": "execute_result",
     "data": {
      "text/plain": [
       "                                                       발화  감정\n",
       "0       지금 난 기분이 너무 좋아.오늘부터 연휴가 시작됐거든. 내일 회사 안 간다.그냥 집...  행복\n",
       "1       나도 조카가 생겨! 너무 기뻐.응. 언니에게 꽃다발을 선물할 거야. 예쁜 딸이면 좋...  행복\n",
       "2       거래처와의 다음 계약이 무산될까봐 불안해.딱히 이유는 없어. 그냥 나 혼자 불안한 ...  불안\n",
       "3       당뇨로 고생 중인데 아내가 이혼하자더군. 아내가 날 버리면 병은 더 악화될 텐데 세...  슬픔\n",
       "4                    노년에 재정적으로 이루어 놓은게 없어서 걱정이야.정말이지 막막해.  슬픔\n",
       "...                                                   ...  ..\n",
       "185816                                      얘긴 다 끝났냐? 원예부  중립\n",
       "185817                   예. 그거 때문에, 부탁이 있......는......데요.  중립\n",
       "185818                                   여자 숨겨달라는거면 사절이다.  중립\n",
       "185819                                         아무래도 안되나요?  중립\n",
       "185820  그 여자랑 내가 무슨 상관인데? 아까는 탐정님이 부탁하기에 너 구하는 김에 주워왔지...  중립\n",
       "\n",
       "[185821 rows x 2 columns]"
      ],
      "text/html": [
       "<div>\n",
       "<style scoped>\n",
       "    .dataframe tbody tr th:only-of-type {\n",
       "        vertical-align: middle;\n",
       "    }\n",
       "\n",
       "    .dataframe tbody tr th {\n",
       "        vertical-align: top;\n",
       "    }\n",
       "\n",
       "    .dataframe thead th {\n",
       "        text-align: right;\n",
       "    }\n",
       "</style>\n",
       "<table border=\"1\" class=\"dataframe\">\n",
       "  <thead>\n",
       "    <tr style=\"text-align: right;\">\n",
       "      <th></th>\n",
       "      <th>발화</th>\n",
       "      <th>감정</th>\n",
       "    </tr>\n",
       "  </thead>\n",
       "  <tbody>\n",
       "    <tr>\n",
       "      <th>0</th>\n",
       "      <td>지금 난 기분이 너무 좋아.오늘부터 연휴가 시작됐거든. 내일 회사 안 간다.그냥 집...</td>\n",
       "      <td>행복</td>\n",
       "    </tr>\n",
       "    <tr>\n",
       "      <th>1</th>\n",
       "      <td>나도 조카가 생겨! 너무 기뻐.응. 언니에게 꽃다발을 선물할 거야. 예쁜 딸이면 좋...</td>\n",
       "      <td>행복</td>\n",
       "    </tr>\n",
       "    <tr>\n",
       "      <th>2</th>\n",
       "      <td>거래처와의 다음 계약이 무산될까봐 불안해.딱히 이유는 없어. 그냥 나 혼자 불안한 ...</td>\n",
       "      <td>불안</td>\n",
       "    </tr>\n",
       "    <tr>\n",
       "      <th>3</th>\n",
       "      <td>당뇨로 고생 중인데 아내가 이혼하자더군. 아내가 날 버리면 병은 더 악화될 텐데 세...</td>\n",
       "      <td>슬픔</td>\n",
       "    </tr>\n",
       "    <tr>\n",
       "      <th>4</th>\n",
       "      <td>노년에 재정적으로 이루어 놓은게 없어서 걱정이야.정말이지 막막해.</td>\n",
       "      <td>슬픔</td>\n",
       "    </tr>\n",
       "    <tr>\n",
       "      <th>...</th>\n",
       "      <td>...</td>\n",
       "      <td>...</td>\n",
       "    </tr>\n",
       "    <tr>\n",
       "      <th>185816</th>\n",
       "      <td>얘긴 다 끝났냐? 원예부</td>\n",
       "      <td>중립</td>\n",
       "    </tr>\n",
       "    <tr>\n",
       "      <th>185817</th>\n",
       "      <td>예. 그거 때문에, 부탁이 있......는......데요.</td>\n",
       "      <td>중립</td>\n",
       "    </tr>\n",
       "    <tr>\n",
       "      <th>185818</th>\n",
       "      <td>여자 숨겨달라는거면 사절이다.</td>\n",
       "      <td>중립</td>\n",
       "    </tr>\n",
       "    <tr>\n",
       "      <th>185819</th>\n",
       "      <td>아무래도 안되나요?</td>\n",
       "      <td>중립</td>\n",
       "    </tr>\n",
       "    <tr>\n",
       "      <th>185820</th>\n",
       "      <td>그 여자랑 내가 무슨 상관인데? 아까는 탐정님이 부탁하기에 너 구하는 김에 주워왔지...</td>\n",
       "      <td>중립</td>\n",
       "    </tr>\n",
       "  </tbody>\n",
       "</table>\n",
       "<p>185821 rows × 2 columns</p>\n",
       "</div>"
      ]
     },
     "metadata": {},
     "execution_count": 288
    }
   ],
   "metadata": {}
  },
  {
   "cell_type": "code",
   "execution_count": 289,
   "source": [
    "real_final_df[\"감정\"].value_counts()"
   ],
   "outputs": [
    {
     "output_type": "execute_result",
     "data": {
      "text/plain": [
       "슬픔    46537\n",
       "중립    43786\n",
       "분노    25527\n",
       "당황    24772\n",
       "행복    22627\n",
       "불안    22352\n",
       "혐오      220\n",
       "Name: 감정, dtype: int64"
      ]
     },
     "metadata": {},
     "execution_count": 289
    }
   ],
   "metadata": {}
  },
  {
   "cell_type": "code",
   "execution_count": 290,
   "source": [
    "real_final_df.to_csv(\"sentiment_dialogues.csv\")"
   ],
   "outputs": [],
   "metadata": {}
  },
  {
   "cell_type": "code",
   "execution_count": null,
   "source": [],
   "outputs": [],
   "metadata": {}
  }
 ],
 "metadata": {
  "orig_nbformat": 4,
  "language_info": {
   "name": "python",
   "version": "3.9.6",
   "mimetype": "text/x-python",
   "codemirror_mode": {
    "name": "ipython",
    "version": 3
   },
   "pygments_lexer": "ipython3",
   "nbconvert_exporter": "python",
   "file_extension": ".py"
  },
  "kernelspec": {
   "name": "python3",
   "display_name": "Python 3.9.6 64-bit ('base': conda)"
  },
  "interpreter": {
   "hash": "ecf5722fdaf1897a315d257d89d94520bfcaa453217d5becf09b39e73618b0de"
  }
 },
 "nbformat": 4,
 "nbformat_minor": 2
}